{
 "cells": [
  {
   "cell_type": "code",
   "execution_count": 1,
   "metadata": {},
   "outputs": [],
   "source": [
    "import h5py\n",
    "import time\n",
    "import torch\n",
    "import torchvision\n",
    "import matplotlib.pyplot as plt\n",
    "import numpy as np\n",
    "from simarUtils import *"
   ]
  },
  {
   "cell_type": "markdown",
   "metadata": {},
   "source": [
    "## Hand Data"
   ]
  },
  {
   "cell_type": "code",
   "execution_count": 2,
   "metadata": {},
   "outputs": [
    {
     "name": "stdout",
     "output_type": "stream",
     "text": [
      "dict with keys:  dict_keys(['key1', 'key2', 'key3'])\n",
      "key1: list of len:  2\n",
      "\tIndex[0]torch.Size([2, 3])\n",
      "key2: list of len:  2\n",
      "\tIndex[0]torch.Size([2, 3])\n",
      "key3: dict with keys:  dict_keys(['nestkey1'])\n",
      "\tnestkey1: torch.Size([5])\n"
     ]
    }
   ],
   "source": [
    "nested_ds = {\"key1\": [torch.ones(2, 3), torch.ones(2, 3)], \"key2\": [torch.ones(2, 3), torch.ones(2, 3)], \"key3\": {\"nestkey1\": torch.ones(5)}}\n",
    "nested_ds_print(nested_ds)"
   ]
  },
  {
   "cell_type": "code",
   "execution_count": 3,
   "metadata": {},
   "outputs": [
    {
     "name": "stdout",
     "output_type": "stream",
     "text": [
      "dict with keys:  <KeysViewHDF5 ['data']>\n",
      "data: dict with keys:  <KeysViewHDF5 ['demo_0']>\n",
      "\tdemo_0: dict with keys:  <KeysViewHDF5 ['actions', 'dones', 'interventions', 'obs', 'policy_acting', 'rewards', 'states', 'user_acting']>\n",
      "\t\tactions: (299, 40)\n",
      "\t\tdones: (298,)\n",
      "\t\tinterventions: (299, 1)\n",
      "\t\tobs: dict with keys:  <KeysViewHDF5 ['front_image_1', 'front_image_2', 'hand_act_1', 'hand_act_2', 'hand_loc', 'hand_loc_1', 'hand_loc_2']>\n",
      "\t\t\tfront_image_1: (299, 720, 720, 3)\n",
      "\t\t\tfront_image_2: (299, 720, 720, 3)\n",
      "\t\t\thand_act_1: (299, 1, 12)\n",
      "\t\t\thand_act_2: (299, 1, 12)\n",
      "\t\t\thand_loc: (299, 1, 4)\n",
      "\t\t\thand_loc_1: (299, 1, 12)\n",
      "\t\t\thand_loc_2: (299, 1, 12)\n",
      "\t\tpolicy_acting: (299,)\n",
      "\t\trewards: (298,)\n",
      "\t\tstates: (0,)\n",
      "\t\tuser_acting: (299, 1)\n"
     ]
    }
   ],
   "source": [
    "h5py_file = h5py.File(\"/coc/flash9/skareer6/Projects/EgoPlay/EgoPlay/mimicplay/datasets/realdata/DSv1ShortCopy.hdf5\", \"r+\")\n",
    "nested_ds_print(h5py_file)"
   ]
  },
  {
   "cell_type": "code",
   "execution_count": 2,
   "metadata": {},
   "outputs": [
    {
     "name": "stdout",
     "output_type": "stream",
     "text": [
      "dict with keys:  <KeysViewHDF5 ['data']>\n",
      "data: dict with keys:  <KeysViewHDF5 ['demo_0']>\n",
      "\tdemo_0: dict with keys:  <KeysViewHDF5 ['actions', 'obs']>\n",
      "\t\tactions: (567, 35)\n",
      "\t\tobs: dict with keys:  <KeysViewHDF5 ['Gripper_position', 'ee_pose', 'front_image_1', 'front_image_2', 'wrist_cam_1']>\n",
      "\t\t\tGripper_position: ()\n",
      "\t\t\tee_pose: (567, 7)\n",
      "\t\t\tfront_image_1: (567, 480, 640, 3)\n",
      "\t\t\tfront_image_2: (1, 1920, 1080, 3)\n",
      "\t\t\twrist_cam_1: (1, 640, 480, 3)\n"
     ]
    }
   ],
   "source": [
    "h5py_file = h5py.File(\"/coc/flash7/datasets/test_mod_format_simar.hdf5\", \"r+\")\n",
    "nested_ds_print(h5py_file)"
   ]
  },
  {
   "cell_type": "code",
   "execution_count": 2,
   "metadata": {},
   "outputs": [
    {
     "name": "stdout",
     "output_type": "stream",
     "text": [
      "dict with keys:  <KeysViewHDF5 ['data']>\n",
      "data: dict with keys:  <KeysViewHDF5 ['demo_0', 'demo_1', 'demo_11', 'demo_12', 'demo_13', 'demo_14', 'demo_15', 'demo_16', 'demo_17', 'demo_2', 'demo_3', 'demo_4', 'demo_5', 'demo_6', 'demo_7', 'demo_8', 'demo_9']>\n",
      "\tdemo_0: dict with keys:  <KeysViewHDF5 ['actions', 'obs']>\n",
      "\t\tactions: (1181, 35)\n",
      "\t\tobs: dict with keys:  <KeysViewHDF5 ['Gripper_position', 'ee_pose', 'front_image_1', 'front_image_2', 'wrist_cam_1']>\n",
      "\t\t\tGripper_position: ()\n",
      "\t\t\tee_pose: (1181, 7)\n",
      "\t\t\tfront_image_1: (1181, 480, 640, 3)\n",
      "\t\t\tfront_image_2: (1, 1920, 1080, 3)\n",
      "\t\t\twrist_cam_1: (1, 640, 480, 3)\n",
      "\tdemo_1: dict with keys:  <KeysViewHDF5 ['actions', 'obs']>\n",
      "\t\tactions: (1175, 35)\n",
      "\t\tobs: dict with keys:  <KeysViewHDF5 ['Gripper_position', 'ee_pose', 'front_image_1', 'front_image_2', 'wrist_cam_1']>\n",
      "\t\t\tGripper_position: ()\n",
      "\t\t\tee_pose: (1175, 7)\n",
      "\t\t\tfront_image_1: (1175, 480, 640, 3)\n",
      "\t\t\tfront_image_2: (1, 1920, 1080, 3)\n",
      "\t\t\twrist_cam_1: (1, 640, 480, 3)\n",
      "\tdemo_11: dict with keys:  <KeysViewHDF5 ['actions', 'obs']>\n",
      "\t\tactions: (1373, 35)\n",
      "\t\tobs: dict with keys:  <KeysViewHDF5 ['Gripper_position', 'ee_pose', 'front_image_1', 'front_image_2', 'wrist_cam_1']>\n",
      "\t\t\tGripper_position: ()\n",
      "\t\t\tee_pose: (1373, 7)\n",
      "\t\t\tfront_image_1: (1373, 480, 640, 3)\n",
      "\t\t\tfront_image_2: (1, 1920, 1080, 3)\n",
      "\t\t\twrist_cam_1: (1, 640, 480, 3)\n",
      "\tdemo_12: dict with keys:  <KeysViewHDF5 ['actions', 'obs']>\n",
      "\t\tactions: (1512, 70)\n",
      "\t\tobs: dict with keys:  <KeysViewHDF5 ['Gripper_position', 'ee_pose', 'front_image_1', 'front_image_2', 'wrist_cam_1']>\n",
      "\t\t\tGripper_position: ()\n",
      "\t\t\tee_pose: (1512, 7)\n",
      "\t\t\tfront_image_1: (1512, 480, 640, 3)\n",
      "\t\t\tfront_image_2: (1, 1920, 1080, 3)\n",
      "\t\t\twrist_cam_1: (1, 640, 480, 3)\n",
      "\tdemo_13: dict with keys:  <KeysViewHDF5 ['actions', 'obs']>\n",
      "\t\tactions: (1772, 70)\n",
      "\t\tobs: dict with keys:  <KeysViewHDF5 ['Gripper_position', 'ee_pose', 'front_image_1', 'front_image_2', 'wrist_cam_1']>\n",
      "\t\t\tGripper_position: ()\n",
      "\t\t\tee_pose: (1772, 7)\n",
      "\t\t\tfront_image_1: (1772, 480, 640, 3)\n",
      "\t\t\tfront_image_2: (1, 1920, 1080, 3)\n",
      "\t\t\twrist_cam_1: (1, 640, 480, 3)\n",
      "\tdemo_14: dict with keys:  <KeysViewHDF5 ['actions', 'obs']>\n",
      "\t\tactions: (1341, 70)\n",
      "\t\tobs: dict with keys:  <KeysViewHDF5 ['Gripper_position', 'ee_pose', 'front_image_1', 'front_image_2', 'wrist_cam_1']>\n",
      "\t\t\tGripper_position: ()\n",
      "\t\t\tee_pose: (1341, 7)\n",
      "\t\t\tfront_image_1: (1341, 480, 640, 3)\n",
      "\t\t\tfront_image_2: (1, 1920, 1080, 3)\n",
      "\t\t\twrist_cam_1: (1, 640, 480, 3)\n",
      "\tdemo_15: dict with keys:  <KeysViewHDF5 ['actions', 'obs']>\n",
      "\t\tactions: (1430, 70)\n",
      "\t\tobs: dict with keys:  <KeysViewHDF5 ['Gripper_position', 'ee_pose', 'front_image_1', 'front_image_2', 'wrist_cam_1']>\n",
      "\t\t\tGripper_position: ()\n",
      "\t\t\tee_pose: (1430, 7)\n",
      "\t\t\tfront_image_1: (1430, 480, 640, 3)\n",
      "\t\t\tfront_image_2: (1, 1920, 1080, 3)\n",
      "\t\t\twrist_cam_1: (1, 640, 480, 3)\n",
      "\tdemo_16: dict with keys:  <KeysViewHDF5 ['actions', 'obs']>\n",
      "\t\tactions: (1381, 70)\n",
      "\t\tobs: dict with keys:  <KeysViewHDF5 ['Gripper_position', 'ee_pose', 'front_image_1', 'front_image_2', 'wrist_cam_1']>\n",
      "\t\t\tGripper_position: ()\n",
      "\t\t\tee_pose: (1381, 7)\n",
      "\t\t\tfront_image_1: (1381, 480, 640, 3)\n",
      "\t\t\tfront_image_2: (1, 1920, 1080, 3)\n",
      "\t\t\twrist_cam_1: (1, 640, 480, 3)\n",
      "\tdemo_17: dict with keys:  <KeysViewHDF5 ['actions', 'obs']>\n",
      "\t\tactions: (2555, 70)\n",
      "\t\tobs: dict with keys:  <KeysViewHDF5 ['Gripper_position', 'ee_pose', 'front_image_1', 'front_image_2', 'wrist_cam_1']>\n",
      "\t\t\tGripper_position: ()\n",
      "\t\t\tee_pose: (2555, 7)\n",
      "\t\t\tfront_image_1: (2555, 480, 640, 3)\n",
      "\t\t\tfront_image_2: (1, 1920, 1080, 3)\n",
      "\t\t\twrist_cam_1: (1, 640, 480, 3)\n",
      "\tdemo_2: dict with keys:  <KeysViewHDF5 ['actions', 'obs']>\n",
      "\t\tactions: (1356, 35)\n",
      "\t\tobs: dict with keys:  <KeysViewHDF5 ['Gripper_position', 'ee_pose', 'front_image_1', 'front_image_2', 'wrist_cam_1']>\n",
      "\t\t\tGripper_position: ()\n",
      "\t\t\tee_pose: (1356, 7)\n",
      "\t\t\tfront_image_1: (1356, 480, 640, 3)\n",
      "\t\t\tfront_image_2: (1, 1920, 1080, 3)\n",
      "\t\t\twrist_cam_1: (1, 640, 480, 3)\n",
      "\tdemo_3: dict with keys:  <KeysViewHDF5 ['actions', 'obs']>\n",
      "\t\tactions: (1612, 35)\n",
      "\t\tobs: dict with keys:  <KeysViewHDF5 ['Gripper_position', 'ee_pose', 'front_image_1', 'front_image_2', 'wrist_cam_1']>\n",
      "\t\t\tGripper_position: ()\n",
      "\t\t\tee_pose: (1612, 7)\n",
      "\t\t\tfront_image_1: (1612, 480, 640, 3)\n",
      "\t\t\tfront_image_2: (1, 1920, 1080, 3)\n",
      "\t\t\twrist_cam_1: (1, 640, 480, 3)\n",
      "\tdemo_4: dict with keys:  <KeysViewHDF5 ['actions', 'obs']>\n",
      "\t\tactions: (3458, 70)\n",
      "\t\tobs: dict with keys:  <KeysViewHDF5 ['Gripper_position', 'ee_pose', 'front_image_1', 'front_image_2', 'wrist_cam_1']>\n",
      "\t\t\tGripper_position: ()\n",
      "\t\t\tee_pose: (3458, 7)\n",
      "\t\t\tfront_image_1: (3458, 480, 640, 3)\n",
      "\t\t\tfront_image_2: (1, 1920, 1080, 3)\n",
      "\t\t\twrist_cam_1: (1, 640, 480, 3)\n",
      "\tdemo_5: dict with keys:  <KeysViewHDF5 ['actions', 'obs']>\n",
      "\t\tactions: (1339, 35)\n",
      "\t\tobs: dict with keys:  <KeysViewHDF5 ['Gripper_position', 'ee_pose', 'front_image_1', 'front_image_2', 'wrist_cam_1']>\n",
      "\t\t\tGripper_position: ()\n",
      "\t\t\tee_pose: (1339, 7)\n",
      "\t\t\tfront_image_1: (1339, 480, 640, 3)\n",
      "\t\t\tfront_image_2: (1, 1920, 1080, 3)\n",
      "\t\t\twrist_cam_1: (1, 640, 480, 3)\n",
      "\tdemo_6: dict with keys:  <KeysViewHDF5 ['actions', 'obs']>\n",
      "\t\tactions: (1294, 35)\n",
      "\t\tobs: dict with keys:  <KeysViewHDF5 ['Gripper_position', 'ee_pose', 'front_image_1', 'front_image_2', 'wrist_cam_1']>\n",
      "\t\t\tGripper_position: ()\n",
      "\t\t\tee_pose: (1294, 7)\n",
      "\t\t\tfront_image_1: (1294, 480, 640, 3)\n",
      "\t\t\tfront_image_2: (1, 1920, 1080, 3)\n",
      "\t\t\twrist_cam_1: (1, 640, 480, 3)\n",
      "\tdemo_7: dict with keys:  <KeysViewHDF5 ['actions', 'obs']>\n",
      "\t\tactions: (1377, 35)\n",
      "\t\tobs: dict with keys:  <KeysViewHDF5 ['Gripper_position', 'ee_pose', 'front_image_1', 'front_image_2', 'wrist_cam_1']>\n",
      "\t\t\tGripper_position: ()\n",
      "\t\t\tee_pose: (1377, 7)\n",
      "\t\t\tfront_image_1: (1377, 480, 640, 3)\n",
      "\t\t\tfront_image_2: (1, 1920, 1080, 3)\n",
      "\t\t\twrist_cam_1: (1, 640, 480, 3)\n",
      "\tdemo_8: dict with keys:  <KeysViewHDF5 ['actions', 'obs']>\n",
      "\t\tactions: (1379, 35)\n",
      "\t\tobs: dict with keys:  <KeysViewHDF5 ['Gripper_position', 'ee_pose', 'front_image_1', 'front_image_2', 'wrist_cam_1']>\n",
      "\t\t\tGripper_position: ()\n",
      "\t\t\tee_pose: (1379, 7)\n",
      "\t\t\tfront_image_1: (1379, 480, 640, 3)\n",
      "\t\t\tfront_image_2: (1, 1920, 1080, 3)\n",
      "\t\t\twrist_cam_1: (1, 640, 480, 3)\n",
      "\tdemo_9: dict with keys:  <KeysViewHDF5 ['actions', 'obs']>\n",
      "\t\tactions: (1812, 35)\n",
      "\t\tobs: dict with keys:  <KeysViewHDF5 ['Gripper_position', 'ee_pose', 'front_image_1', 'front_image_2', 'wrist_cam_1']>\n",
      "\t\t\tGripper_position: ()\n",
      "\t\t\tee_pose: (1812, 7)\n",
      "\t\t\tfront_image_1: (1812, 480, 640, 3)\n",
      "\t\t\tfront_image_2: (1, 1920, 1080, 3)\n",
      "\t\t\twrist_cam_1: (1, 640, 480, 3)\n"
     ]
    }
   ],
   "source": [
    "h5py_file = h5py.File(\"/coc/flash7/datasets/v1_dataset.hdf5\", \"r+\")\n",
    "nested_ds_print(h5py_file)"
   ]
  },
  {
   "cell_type": "code",
   "execution_count": 3,
   "metadata": {},
   "outputs": [],
   "source": [
    "h5py_file[\"data/demo_4\"] = h5py_file[\"data/demo_18\"]\n",
    "del h5py_file[\"data/demo_18\"]\n",
    "h5py_file.close()"
   ]
  },
  {
   "cell_type": "code",
   "execution_count": 3,
   "metadata": {},
   "outputs": [],
   "source": [
    "del h5py_file[\"data/demo_0/actions\"]"
   ]
  },
  {
   "cell_type": "code",
   "execution_count": 4,
   "metadata": {},
   "outputs": [],
   "source": [
    "h5py_file[\"data/demo_0/actions\"] = h5py_file[\"data/demo_0/obs/ee_pose\"][:, :3]"
   ]
  },
  {
   "cell_type": "code",
   "execution_count": 5,
   "metadata": {},
   "outputs": [
    {
     "name": "stdout",
     "output_type": "stream",
     "text": [
      "dict with keys:  <KeysViewHDF5 ['data']>\n",
      "data: dict with keys:  <KeysViewHDF5 ['demo_0']>\n",
      "\tdemo_0: dict with keys:  <KeysViewHDF5 ['actions', 'obs']>\n",
      "\t\tactions: (567, 3)\n",
      "\t\tobs: dict with keys:  <KeysViewHDF5 ['Gripper_position', 'ee_pose', 'front_image_1', 'front_image_2', 'wrist_cam_1']>\n",
      "\t\t\tGripper_position: ()\n",
      "\t\t\tee_pose: (567, 7)\n",
      "\t\t\tfront_image_1: (567, 480, 640, 3)\n",
      "\t\t\tfront_image_2: (1, 1920, 1080, 3)\n",
      "\t\t\twrist_cam_1: (1, 640, 480, 3)\n"
     ]
    }
   ],
   "source": [
    "nested_ds_print(h5py_file)"
   ]
  },
  {
   "cell_type": "code",
   "execution_count": 6,
   "metadata": {},
   "outputs": [],
   "source": [
    "# fut_index = np.concatenate((np.arange(1, 567), np.array([566])))\n",
    "# h5py_file[\"data/demo_0/obs/ee_pose\"][:, :3][fut_index]\n",
    "# h5py_file[\"data/demo_0/actions\"] = h5py_file[\"data/demo_0/obs/ee_pose\"][:, :3][fut_index] - h5py_file[\"data/demo_0/obs/ee_pose\"][:, :3]"
   ]
  },
  {
   "cell_type": "code",
   "execution_count": 7,
   "metadata": {},
   "outputs": [],
   "source": [
    "h5py_file[\"data/demo_0/obs/ee_pose_2\"] = h5py_file[\"data/demo_0/obs/ee_pose\"][:, :3]\n",
    "del h5py_file[\"data/demo_0/obs/ee_pose\"]\n",
    "h5py_file[\"data/demo_0/obs/ee_pose\"] = h5py_file[\"data/demo_0/obs/ee_pose_2\"]\n",
    "del h5py_file[\"data/demo_0/obs/ee_pose_2\"]"
   ]
  },
  {
   "cell_type": "code",
   "execution_count": 8,
   "metadata": {},
   "outputs": [
    {
     "name": "stdout",
     "output_type": "stream",
     "text": [
      "dict with keys:  <KeysViewHDF5 ['data']>\n",
      "data: dict with keys:  <KeysViewHDF5 ['demo_0']>\n",
      "\tdemo_0: dict with keys:  <KeysViewHDF5 ['actions', 'obs']>\n",
      "\t\tactions: (567, 3)\n",
      "\t\tobs: dict with keys:  <KeysViewHDF5 ['Gripper_position', 'ee_pose', 'front_image_1', 'front_image_2', 'wrist_cam_1']>\n",
      "\t\t\tGripper_position: ()\n",
      "\t\t\tee_pose: (567, 3)\n",
      "\t\t\tfront_image_1: (567, 480, 640, 3)\n",
      "\t\t\tfront_image_2: (1, 1920, 1080, 3)\n",
      "\t\t\twrist_cam_1: (1, 640, 480, 3)\n"
     ]
    }
   ],
   "source": [
    "nested_ds_print(h5py_file)"
   ]
  },
  {
   "cell_type": "code",
   "execution_count": 9,
   "metadata": {},
   "outputs": [],
   "source": [
    "# def general_norm(array, min_val, max_val):\n",
    "#     return (max_val - min_val) * ((array - array.min()) / (array.max() - array.min())) + min_val\n",
    "# h5py_file[\"data/demo_0/obs/ee_pose_norm\"] = general_norm(h5py_file[\"data/demo_0/obs/ee_pose\"][:], -1, 1)\n",
    "# h5py_file[\"data/demo_0/obs/ee_pose_unnorm\"] = h5py_file[\"data/demo_0/obs/ee_pose\"]\n",
    "# del h5py_file[\"data/demo_0/obs/ee_pose\"]\n",
    "# h5py_file[\"data/demo_0/obs/ee_pose\"] = h5py_file[\"data/demo_0/obs/ee_pose_norm\"]\n",
    "# del h5py_file[\"data/demo_0/obs/ee_pose_norm\"]\n",
    "\n",
    "h5py_file[\"data/demo_0/actions_norm\"] = general_norm(h5py_file[\"data/demo_0/actions\"][:], -1, 1)\n",
    "h5py_file[\"data/demo_0/actions_unnorm\"] = h5py_file[\"data/demo_0/actions\"]\n",
    "del h5py_file[\"data/demo_0/actions\"]\n",
    "h5py_file[\"data/demo_0/actions\"] = h5py_file[\"data/demo_0/actions_norm\"]\n",
    "del h5py_file[\"data/demo_0/actions_norm\"]\n",
    "\n",
    "h5py_file[\"data/demo_0/obs/ee_pose_norm\"] = general_norm(h5py_file[\"data/demo_0/obs/ee_pose\"][:], -1, 1)\n",
    "h5py_file[\"data/demo_0/obs/ee_pose_unnorm\"] = h5py_file[\"data/demo_0/obs/ee_pose\"]\n",
    "del h5py_file[\"data/demo_0/obs/ee_pose\"]\n",
    "h5py_file[\"data/demo_0/obs/ee_pose\"] = h5py_file[\"data/demo_0/obs/ee_pose_norm\"]\n",
    "del h5py_file[\"data/demo_0/obs/ee_pose_norm\"]"
   ]
  },
  {
   "cell_type": "code",
   "execution_count": 17,
   "metadata": {},
   "outputs": [],
   "source": [
    "h5py_file.close()"
   ]
  },
  {
   "cell_type": "code",
   "execution_count": 10,
   "metadata": {},
   "outputs": [
    {
     "name": "stdout",
     "output_type": "stream",
     "text": [
      "[-1.  -0.6 -0.4 -0.2  0.6  1. ]\n"
     ]
    }
   ],
   "source": [
    "a = general_norm(np.array([-4, -2, -1, 0, 4, 6]), -1, 1)\n",
    "print(a)\n"
   ]
  },
  {
   "cell_type": "code",
   "execution_count": 10,
   "metadata": {},
   "outputs": [
    {
     "name": "stdout",
     "output_type": "stream",
     "text": [
      "dict with keys:  <KeysViewHDF5 ['data']>\n",
      "data: dict with keys:  <KeysViewHDF5 ['demo_0']>\n",
      "\tdemo_0: dict with keys:  <KeysViewHDF5 ['actions', 'actions_unnorm', 'obs']>\n",
      "\t\tactions: (567, 3)\n",
      "\t\tactions_unnorm: (567, 3)\n",
      "\t\tobs: dict with keys:  <KeysViewHDF5 ['Gripper_position', 'ee_pose', 'ee_pose_unnorm', 'front_image_1', 'front_image_2', 'wrist_cam_1']>\n",
      "\t\t\tGripper_position: ()\n",
      "\t\t\tee_pose: (567, 3)\n",
      "\t\t\tee_pose_unnorm: (567, 3)\n",
      "\t\t\tfront_image_1: (567, 480, 640, 3)\n",
      "\t\t\tfront_image_2: (1, 1920, 1080, 3)\n",
      "\t\t\twrist_cam_1: (1, 640, 480, 3)\n"
     ]
    }
   ],
   "source": [
    "nested_ds_print(h5py_file)"
   ]
  },
  {
   "cell_type": "code",
   "execution_count": 11,
   "metadata": {},
   "outputs": [],
   "source": [
    "def array_into_chunks(arr, chunkSize):\n",
    "    \"\"\"\n",
    "    Given an array of vectors (T, k) ex) [[1, 2], [3, 4], [5, 6], [7, 8]]\n",
    "    and a chunkSize ex) 3\n",
    "    return a list of chunks with padding (T, k*3) ex) [[1, 2, 3, 4, 5, 6], [3, 4, 5, 6, 7, 8], [5, 6, 7, 8, 7, 8], [7, 8, 7, 8, 7, 8]]\n",
    "    \"\"\"\n",
    "    chunked_arr = []\n",
    "    for i in range(arr.shape[0]):\n",
    "        chunked_arr.append(np.concatenate([arr[i:], np.tile(arr[-1:], (chunkSize-1, 1))], axis=0)[:chunkSize].flatten())\n",
    "    return np.array(chunked_arr)\n",
    "\n",
    "h5py_file[\"data/demo_0/actions_chunk\"] = array_into_chunks(h5py_file[\"data/demo_0/actions\"][:, :3], 10)\n",
    "h5py_file[\"data/demo_0/actions_unnorm_chunk\"] = array_into_chunks(h5py_file[\"data/demo_0/actions_unnorm\"][:, :3], 10)\n",
    "# del h5py_file[\"data/demo_0/actions\"]\n",
    "# h5py_file[\"data/demo_0/actions\"] = h5py_file[\"data/demo_0/actionsStacked\"]"
   ]
  },
  {
   "cell_type": "code",
   "execution_count": 12,
   "metadata": {},
   "outputs": [],
   "source": [
    "del h5py_file[\"data/demo_0/actions\"]\n",
    "h5py_file[\"data/demo_0/actions\"] = h5py_file[\"data/demo_0/actions_chunk\"]\n",
    "del h5py_file[\"data/demo_0/actions_chunk\"]\n",
    "\n",
    "del h5py_file[\"data/demo_0/actions_unnorm\"]\n",
    "h5py_file[\"data/demo_0/actions_unnorm\"] = h5py_file[\"data/demo_0/actions_unnorm_chunk\"]\n",
    "del h5py_file[\"data/demo_0/actions_unnorm_chunk\"]"
   ]
  },
  {
   "cell_type": "code",
   "execution_count": 13,
   "metadata": {},
   "outputs": [
    {
     "name": "stdout",
     "output_type": "stream",
     "text": [
      "dict with keys:  <KeysViewHDF5 ['data']>\n",
      "data: dict with keys:  <KeysViewHDF5 ['demo_0']>\n",
      "\tdemo_0: dict with keys:  <KeysViewHDF5 ['actions', 'actions_unnorm', 'obs']>\n",
      "\t\tactions: (567, 30)\n",
      "\t\tactions_unnorm: (567, 30)\n",
      "\t\tobs: dict with keys:  <KeysViewHDF5 ['Gripper_position', 'ee_pose', 'ee_pose_unnorm', 'front_image_1', 'front_image_2', 'wrist_cam_1']>\n",
      "\t\t\tGripper_position: ()\n",
      "\t\t\tee_pose: (567, 3)\n",
      "\t\t\tee_pose_unnorm: (567, 3)\n",
      "\t\t\tfront_image_1: (567, 480, 640, 3)\n",
      "\t\t\tfront_image_2: (1, 1920, 1080, 3)\n",
      "\t\t\twrist_cam_1: (1, 640, 480, 3)\n"
     ]
    }
   ],
   "source": [
    "nested_ds_print(h5py_file)"
   ]
  },
  {
   "cell_type": "code",
   "execution_count": 17,
   "metadata": {},
   "outputs": [
    {
     "data": {
      "text/plain": [
       "array([[ 37.423378, -57.83036 , 376.92395 ],\n",
       "       [ 39.560364, -53.945511, 376.872162],\n",
       "       [ 42.016136, -50.551331, 376.641754],\n",
       "       ...,\n",
       "       [ 67.541862, -56.350403, 487.752502],\n",
       "       [ 64.418617, -48.545242, 491.298004],\n",
       "       [ 63.775795, -43.985886, 494.129669]])"
      ]
     },
     "execution_count": 17,
     "metadata": {},
     "output_type": "execute_result"
    }
   ],
   "source": [
    "h5py_file[\"data/demo_0/obs/ee_pose_unnorm\"][:]"
   ]
  },
  {
   "cell_type": "code",
   "execution_count": 18,
   "metadata": {},
   "outputs": [],
   "source": [
    "h5py_file.close()"
   ]
  },
  {
   "cell_type": "code",
   "execution_count": 21,
   "metadata": {},
   "outputs": [],
   "source": [
    "#RENAMING KEYS\n",
    "h5py_file.create_group(\"data/demo0\")\n",
    "h5py_file[\"data/demo_0\"] = h5py_file[\"demo_0\"]\n",
    "del h5py_file[\"demo_0\"]\n",
    "h5py_file[\"data/demo_0/obs/\"].keys()\n",
    "# make all observation key names lowercase\n",
    "for key in h5py_file[\"data/demo_0/obs/\"].keys():\n",
    "    if key.lower() != key:\n",
    "        h5py_file[f\"data/demo_0/obs/{key.lower()}\"] = h5py_file[f\"data/demo_0/obs/{key}\"]\n",
    "        del h5py_file[f\"data/demo_0/obs/{key}\"]"
   ]
  }
 ],
 "metadata": {
  "kernelspec": {
   "display_name": "Python 3 (ipykernel)",
   "language": "python",
   "name": "python3"
  },
  "language_info": {
   "codemirror_mode": {
    "name": "ipython",
    "version": 3
   },
   "file_extension": ".py",
   "mimetype": "text/x-python",
   "name": "python",
   "nbconvert_exporter": "python",
   "pygments_lexer": "ipython3",
   "version": "3.8.18"
  }
 },
 "nbformat": 4,
 "nbformat_minor": 4
}
